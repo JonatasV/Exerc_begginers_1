{
 "cells": [
  {
   "cell_type": "markdown",
   "id": "c423d395",
   "metadata": {},
   "source": [
    "1 # Elabore um algoritmo que solicite dois números ao usuário e imprima a soma entre esses números."
   ]
  },
  {
   "cell_type": "code",
   "execution_count": null,
   "id": "6f731948",
   "metadata": {},
   "outputs": [],
   "source": [
    "n1 = int(input(\"Digite o número 1: \"))\n",
    "n2 = int(input(\"Digite o número 2: \"))\n",
    "res=n1+n2\n",
    "print(res)\n"
   ]
  },
  {
   "cell_type": "markdown",
   "id": "2a469929",
   "metadata": {},
   "source": [
    "2 # Elabore um algoritmo que leia quanto você ganha por hora e o número de horas trabalhadas no mês. Calcule e mostre o total do seu salário no referido mês.\n"
   ]
  },
  {
   "cell_type": "code",
   "execution_count": null,
   "id": "578a3153",
   "metadata": {},
   "outputs": [],
   "source": [
    "x = int(input(\"Digite quanto vc ganha por hora: \"))\n",
    "y = int(input(\"Digite o número de horas trabalhadas no dia: \"))\n",
    "sal= x*y*28\n",
    "print(\"Seu salário mensal é de:\" ,sal)\n",
    "Digite quanto vc ganha por hora: 50\n",
    "Digite o número de horas trabalhadas no dia: 8\n",
    "Seu salário mensal é de: 11200"
   ]
  },
  {
   "cell_type": "markdown",
   "id": "4d49e46d",
   "metadata": {},
   "source": [
    "3 # Elabore um algoritmo que leia um valor e mostre na tela se o valor é positivo ou negativo."
   ]
  },
  {
   "cell_type": "code",
   "execution_count": null,
   "id": "480619d6",
   "metadata": {},
   "outputs": [],
   "source": [
    "x1 = float(input(\"Digite um valor : \"))\n",
    "\n",
    "if (x1 >= 0.1):\n",
    "  print(\"Este valor é positivo!\")\n",
    "elif (x1==0):\n",
    "    print(\"Este valor é igual a 0!\")\n",
    "else:\n",
    "  print(\"Este valor é negativo!\")\n"
   ]
  },
  {
   "cell_type": "markdown",
   "id": "3d8f9659",
   "metadata": {},
   "source": [
    "4 # Elabore um algoritmo que imprima os números ímpares entre 1 e 100."
   ]
  },
  {
   "cell_type": "code",
   "execution_count": null,
   "id": "378b36a1",
   "metadata": {},
   "outputs": [],
   "source": [
    "print(list(range(1,100,2)))"
   ]
  },
  {
   "cell_type": "markdown",
   "id": "6d59e11d",
   "metadata": {},
   "source": [
    "5 # Elabore um algoritmo que imprima a tabuada entre 1 e 10, conforme apresentado na saída."
   ]
  },
  {
   "cell_type": "code",
   "execution_count": 4,
   "id": "5942f1d2",
   "metadata": {},
   "outputs": [
    {
     "name": "stdout",
     "output_type": "stream",
     "text": [
      "1 x 1 = 1\n",
      "1 x 2 = 2\n",
      "1 x 3 = 3\n",
      "1 x 4 = 4\n",
      "1 x 5 = 5\n",
      "1 x 6 = 6\n",
      "1 x 7 = 7\n",
      "1 x 8 = 8\n",
      "1 x 9 = 9\n",
      "\n",
      "2 x 1 = 2\n",
      "2 x 2 = 4\n",
      "2 x 3 = 6\n",
      "2 x 4 = 8\n",
      "2 x 5 = 10\n",
      "2 x 6 = 12\n",
      "2 x 7 = 14\n",
      "2 x 8 = 16\n",
      "2 x 9 = 18\n",
      "\n",
      "3 x 1 = 3\n",
      "3 x 2 = 6\n",
      "3 x 3 = 9\n",
      "3 x 4 = 12\n",
      "3 x 5 = 15\n",
      "3 x 6 = 18\n",
      "3 x 7 = 21\n",
      "3 x 8 = 24\n",
      "3 x 9 = 27\n",
      "\n",
      "4 x 1 = 4\n",
      "4 x 2 = 8\n",
      "4 x 3 = 12\n",
      "4 x 4 = 16\n",
      "4 x 5 = 20\n",
      "4 x 6 = 24\n",
      "4 x 7 = 28\n",
      "4 x 8 = 32\n",
      "4 x 9 = 36\n",
      "\n",
      "5 x 1 = 5\n",
      "5 x 2 = 10\n",
      "5 x 3 = 15\n",
      "5 x 4 = 20\n",
      "5 x 5 = 25\n",
      "5 x 6 = 30\n",
      "5 x 7 = 35\n",
      "5 x 8 = 40\n",
      "5 x 9 = 45\n",
      "\n",
      "6 x 1 = 6\n",
      "6 x 2 = 12\n",
      "6 x 3 = 18\n",
      "6 x 4 = 24\n",
      "6 x 5 = 30\n",
      "6 x 6 = 36\n",
      "6 x 7 = 42\n",
      "6 x 8 = 48\n",
      "6 x 9 = 54\n",
      "\n",
      "7 x 1 = 7\n",
      "7 x 2 = 14\n",
      "7 x 3 = 21\n",
      "7 x 4 = 28\n",
      "7 x 5 = 35\n",
      "7 x 6 = 42\n",
      "7 x 7 = 49\n",
      "7 x 8 = 56\n",
      "7 x 9 = 63\n",
      "\n",
      "8 x 1 = 8\n",
      "8 x 2 = 16\n",
      "8 x 3 = 24\n",
      "8 x 4 = 32\n",
      "8 x 5 = 40\n",
      "8 x 6 = 48\n",
      "8 x 7 = 56\n",
      "8 x 8 = 64\n",
      "8 x 9 = 72\n",
      "\n",
      "9 x 1 = 9\n",
      "9 x 2 = 18\n",
      "9 x 3 = 27\n",
      "9 x 4 = 36\n",
      "9 x 5 = 45\n",
      "9 x 6 = 54\n",
      "9 x 7 = 63\n",
      "9 x 8 = 72\n",
      "9 x 9 = 81\n",
      "\n",
      "10 x 1 = 10\n",
      "10 x 2 = 20\n",
      "10 x 3 = 30\n",
      "10 x 4 = 40\n",
      "10 x 5 = 50\n",
      "10 x 6 = 60\n",
      "10 x 7 = 70\n",
      "10 x 8 = 80\n",
      "10 x 9 = 90\n",
      "\n"
     ]
    }
   ],
   "source": [
    "for a in range(1,11):\n",
    "    for b in range (1,10): \n",
    "        print(a, 'x', b, '=', a * b)\n",
    "    print()\n"
   ]
  },
  {
   "cell_type": "markdown",
   "id": "69d27c6a",
   "metadata": {},
   "source": [
    "6 # Elabore um algoritmo que leia um valor representando o gasto realizado por um cliente de um restaurante e imprima o valor total a ser pago, considerando os 10% do garçom.\n"
   ]
  },
  {
   "cell_type": "code",
   "execution_count": 6,
   "id": "a4e02784",
   "metadata": {},
   "outputs": [
    {
     "name": "stdout",
     "output_type": "stream",
     "text": [
      "Digite o valor consumido: 100\n",
      "O valor da conta: R$ 110.00\n"
     ]
    }
   ],
   "source": [
    "consumo = float(input(\"Digite o valor consumido: \"))\n",
    "conta = consumo * 1.10\n",
    "print(\"O valor da conta: R$ %.2f\"% conta)"
   ]
  },
  {
   "cell_type": "markdown",
   "id": "1146f700",
   "metadata": {},
   "source": [
    "7 # Elabore um algoritmo que leia dois números inteiros e calcule e mostre o resultado das seguintes operações aritméticas: soma, subtração, multiplicação, divisão e resto da divisão. Construa um método para cada operação e faça com que eles devolvam o valor calculado.\n",
    "\n",
    "# Método calcula_soma\n",
    "# Método calcula_subtracao\n",
    "# Método calcula_multiplicacao\n",
    "# Método calcula_divisao\n",
    "# Método calcula_resto_divisao\n",
    "# Aplicação dos métodos"
   ]
  },
  {
   "cell_type": "code",
   "execution_count": 16,
   "id": "4a5d7c64",
   "metadata": {},
   "outputs": [],
   "source": [
    "#metodo calcula_soma\n",
    "def calcula_soma(x,y):\n",
    "    return x + y"
   ]
  },
  {
   "cell_type": "code",
   "execution_count": 17,
   "id": "62cb5e89",
   "metadata": {},
   "outputs": [],
   "source": [
    "#metodo calcula_subt\n",
    "def calcula_sub(x,y):\n",
    "    return x - y"
   ]
  },
  {
   "cell_type": "code",
   "execution_count": 18,
   "id": "c961102d",
   "metadata": {},
   "outputs": [],
   "source": [
    "#metodo calcula_multip\n",
    "def calcula_mult(x,y):\n",
    "    return x * y"
   ]
  },
  {
   "cell_type": "code",
   "execution_count": 21,
   "id": "f46185e9",
   "metadata": {},
   "outputs": [],
   "source": [
    "#metodo calcula_div\n",
    "def calcula_div(x,y):\n",
    "    return x / y"
   ]
  },
  {
   "cell_type": "code",
   "execution_count": 22,
   "id": "9abf0292",
   "metadata": {},
   "outputs": [],
   "source": [
    "#metodo calcula resto_divisao\n",
    "def calcula_resto_div(x,y):\n",
    "    return x % y"
   ]
  },
  {
   "cell_type": "code",
   "execution_count": 25,
   "id": "28b3b85a",
   "metadata": {},
   "outputs": [
    {
     "name": "stdout",
     "output_type": "stream",
     "text": [
      "Digite o 1o valor: 100\n",
      "Digite o 1o valor: 50\n",
      "Soma                    : 150\n",
      "Subtração               : 50\n",
      "Multiplicação           : 5000\n",
      "Divisão                 : 2\n",
      "Calcula resto da divisao: 0\n"
     ]
    }
   ],
   "source": [
    "#Aplicação dos métodos\n",
    "a = int(input(\"Digite o 1o valor: \"))\n",
    "b = int(input(\"Digite o 1o valor: \"))\n",
    "print(\"Soma                    : %d\" %calcula_soma(a, b))\n",
    "print(\"Subtração               : %d\" %calcula_sub(a, b))\n",
    "print(\"Multiplicação           : %d\" %calcula_mult(a, b))\n",
    "print(\"Divisão                 : %d\" %calcula_div(a, b))\n",
    "print(\"Calcula resto da divisao: %d\" %calcula_resto_div(a, b))"
   ]
  },
  {
   "cell_type": "markdown",
   "id": "069a8282",
   "metadata": {},
   "source": [
    "8 # Elabore um algoritmo que leia a cotação do dólar, leia um valor em dólares, converta e mostre o valor equivalente em reais. Construa um método para converter e um método para exibir o valor convertido, apresentando os símbolos monetários (R$).\n",
    "\n",
    "# Método converte\n",
    "# Método exibe\n",
    "# Aplicação dos métodos"
   ]
  },
  {
   "cell_type": "code",
   "execution_count": 26,
   "id": "f682a781",
   "metadata": {},
   "outputs": [],
   "source": [
    "#método converte (função)\n",
    "def converte_real(cotacao, valor):\n",
    "    return cotacao * valor"
   ]
  },
  {
   "cell_type": "code",
   "execution_count": 27,
   "id": "39d8e7d2",
   "metadata": {},
   "outputs": [],
   "source": [
    "#método exibe \n",
    "def exibe_valor(valor):\n",
    "    print(\"R$ %2.f\" % valor)"
   ]
  },
  {
   "cell_type": "code",
   "execution_count": 28,
   "id": "05bb4b09",
   "metadata": {},
   "outputs": [
    {
     "name": "stdout",
     "output_type": "stream",
     "text": [
      "Cotação do dólar: 4.70\n",
      "Valor: 100\n",
      "R$ 470\n"
     ]
    }
   ],
   "source": [
    "#Aplicaçao do método\n",
    "cotacao = float(input(\"Cotação do dólar: \"))\n",
    "valor_dolar = float(input(\"Valor: \"))\n",
    "valor_real = converte_real(cotacao, valor_dolar)\n",
    "exibe_valor(valor_real)"
   ]
  },
  {
   "cell_type": "markdown",
   "id": "4ffd7339",
   "metadata": {},
   "source": [
    "9 # Elabore um algoritmo que solicite um número ao usuário. Caso seja digitado um valor entre 999 e 9999, mostre a mensagem \"Senha correta!\"; caso contrário, mostre \"Senha incorreta!\".\n"
   ]
  },
  {
   "cell_type": "code",
   "execution_count": 33,
   "id": "8cf9d010",
   "metadata": {},
   "outputs": [
    {
     "name": "stdout",
     "output_type": "stream",
     "text": [
      "Senha: 1234\n",
      "Senha correta\n"
     ]
    }
   ],
   "source": [
    "senha = int(input(\"Senha: \"))\n",
    "if senha >=999 and senha <=9999:\n",
    "    print(\"Senha correta\")\n",
    "else:\n",
    "    print(\"Senha incorreta\")"
   ]
  },
  {
   "cell_type": "markdown",
   "id": "947d3205",
   "metadata": {},
   "source": [
    "10 # Elabore um algoritmo que leia uma quantidade N de valores fornecida pelo usuário e calcule a média desses valores.\n"
   ]
  },
  {
   "cell_type": "code",
   "execution_count": 34,
   "id": "d1e4d354",
   "metadata": {},
   "outputs": [
    {
     "name": "stdout",
     "output_type": "stream",
     "text": [
      "Quantos valores você deseja?: 3\n",
      "Valor: 1\n",
      "Valor: 2\n",
      "Valor: 3\n",
      "A média dos valores é de:  2.0\n"
     ]
    }
   ],
   "source": [
    "n = int(input(\"Quantos valores você deseja?: \"))\n",
    "\n",
    "soma = 0\n",
    "for i in range(n):\n",
    "    valor = int(input(\"Valor: \"))\n",
    "    soma = soma + valor\n",
    "    \n",
    "print(\"A média dos valores é de: \", soma/n)"
   ]
  }
 ],
 "metadata": {
  "kernelspec": {
   "display_name": "Python 3 (ipykernel)",
   "language": "python",
   "name": "python3"
  },
  "language_info": {
   "codemirror_mode": {
    "name": "ipython",
    "version": 3
   },
   "file_extension": ".py",
   "mimetype": "text/x-python",
   "name": "python",
   "nbconvert_exporter": "python",
   "pygments_lexer": "ipython3",
   "version": "3.9.7"
  }
 },
 "nbformat": 4,
 "nbformat_minor": 5
}
